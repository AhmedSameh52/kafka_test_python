{
 "cells": [
  {
   "cell_type": "code",
   "execution_count": 6,
   "id": "5830e487",
   "metadata": {},
   "outputs": [],
   "source": [
    "from kafka import KafkaProducer\n",
    "producer = KafkaProducer(bootstrap_servers='localhost:9092')\n",
    "for _ in range(100):\n",
    "    producer.send('foobar', b'some_message_bytes')"
   ]
  },
  {
   "cell_type": "code",
   "execution_count": 12,
   "id": "a351e965",
   "metadata": {},
   "outputs": [],
   "source": [
    "import requests\n",
    "import json\n",
    "response_API = requests.get('https://api.covid19india.org/state_district_wise.json')\n",
    "#print(response_API.status_code)\n",
    "data = response_API.text\n",
    "parse_json = json.loads(data)\n",
    "active_case = parse_json['Andaman and Nicobar Islands']['districtData']['South Andaman']['active']\n",
    "# s = json.dumps(active_case).encode('utf-8')\n",
    "s = json.dumps(parse_json).encode('utf-8')\n",
    "x = json.loads(s)\n",
    "producer = KafkaProducer(bootstrap_servers='localhost:9092')\n",
    "# producer.send('test', b'Active cases in South Andaman:' + s)\n",
    "producer.send('test',s)\n",
    "producer.flush()\n",
    "\n",
    "\n",
    "#print(\"Active cases in South Andaman:\", active_case)"
   ]
  },
  {
   "cell_type": "code",
   "execution_count": null,
   "id": "445e2264",
   "metadata": {},
   "outputs": [],
   "source": []
  }
 ],
 "metadata": {
  "kernelspec": {
   "display_name": "Python 3 (ipykernel)",
   "language": "python",
   "name": "python3"
  },
  "language_info": {
   "codemirror_mode": {
    "name": "ipython",
    "version": 3
   },
   "file_extension": ".py",
   "mimetype": "text/x-python",
   "name": "python",
   "nbconvert_exporter": "python",
   "pygments_lexer": "ipython3",
   "version": "3.9.12"
  }
 },
 "nbformat": 4,
 "nbformat_minor": 5
}
