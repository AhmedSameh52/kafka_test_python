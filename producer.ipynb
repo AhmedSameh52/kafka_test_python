{
 "cells": [
  {
   "cell_type": "code",
   "execution_count": 49,
   "id": "bf0086cf",
   "metadata": {},
   "outputs": [],
   "source": [
    "from kafka import KafkaProducer\n",
    "producer = KafkaProducer(bootstrap_servers='localhost:9092')\n",
    "for _ in range(100):\n",
    "    producer.send('foobar', b'some_message_bytes')"
   ]
  },
  {
   "cell_type": "code",
   "execution_count": 50,
   "id": "da974814",
   "metadata": {},
   "outputs": [
    {
     "name": "stdout",
     "output_type": "stream",
     "text": [
      "Collecting parse\n",
      "  Downloading parse-1.19.0.tar.gz (30 kB)\n",
      "Building wheels for collected packages: parse\n",
      "  Building wheel for parse (setup.py): startedNote: you may need to restart the kernel to use updated packages.\n",
      "\n",
      "  Building wheel for parse (setup.py): finished with status 'done'\n",
      "  Created wheel for parse: filename=parse-1.19.0-py3-none-any.whl size=24591 sha256=be688bfda9192020aec16bd4563e15f2a423d3c94be1a72baa3edbfa2e7964b5\n",
      "  Stored in directory: c:\\users\\owner\\appdata\\local\\pip\\cache\\wheels\\d6\\9c\\58\\ee3ba36897e890f3ad81e9b730791a153fce20caa4a8a474df\n",
      "Successfully built parse\n",
      "Installing collected packages: parse\n",
      "Successfully installed parse-1.19.0\n"
     ]
    }
   ],
   "source": [
    "pip install parse"
   ]
  },
  {
   "cell_type": "code",
   "execution_count": 85,
   "id": "ab075e44",
   "metadata": {},
   "outputs": [
    {
     "name": "stdout",
     "output_type": "stream",
     "text": [
      "b'{\"name\": \"Leanne Graham\", \"id\": 1}'\n",
      "b'{\"name\": \"Ervin Howell\", \"id\": 2}'\n",
      "b'{\"name\": \"Clementine Bauch\", \"id\": 3}'\n",
      "b'{\"name\": \"Patricia Lebsack\", \"id\": 4}'\n",
      "b'{\"name\": \"Chelsey Dietrich\", \"id\": 5}'\n",
      "b'{\"name\": \"Mrs. Dennis Schulist\", \"id\": 6}'\n",
      "b'{\"name\": \"Kurtis Weissnat\", \"id\": 7}'\n",
      "b'{\"name\": \"Nicholas Runolfsdottir V\", \"id\": 8}'\n",
      "b'{\"name\": \"Glenna Reichert\", \"id\": 9}'\n",
      "b'{\"name\": \"Clementina DuBuque\", \"id\": 10}'\n"
     ]
    }
   ],
   "source": [
    "import requests\n",
    "import parse\n",
    "import json\n",
    "import pandas as pd\n",
    "from pandas import DataFrame\n",
    "\n",
    "producer = KafkaProducer(bootstrap_servers='localhost:9092')\n",
    "response_API = requests.get('https://jsonplaceholder.typicode.com/users')\n",
    "data = response_API.text\n",
    "data_dict=json.loads(data)\n",
    "data_dict2={}\n",
    "for item in data_dict:\n",
    "    data_dict2['name']=item['name']\n",
    "    data_dict2['id']=item['id']\n",
    "    json_object = json.dumps(data_dict2).encode('utf-8')\n",
    "    print(json_object)\n",
    "    producer.send('test',json_object)\n",
    "    producer.flush()\n",
    "    \n",
    "#     print(item)\n",
    "# parse_json = json.loads(data)\n",
    "# active_case = parse_json\n",
    "# s = json.dumps(active_case).encode('utf-8')\n",
    "# x = json.loads(s)\n",
    "# producer = KafkaProducer(bootstrap_servers='localhost:9092')\n",
    "# producer.send('test', b'Active cases in South Andaman:' + s)\n",
    "# producer.send('test',s)\n",
    "# producer.flush()\n",
    "# d = json.loads(s)\n",
    "# df2 = pd.DataFrame.from_dict(d)\n",
    "# df2\n",
    "\n",
    "#print(\"Active cases in South Andaman:\", active_case)"
   ]
  },
  {
   "cell_type": "code",
   "execution_count": 41,
   "id": "1d539277",
   "metadata": {},
   "outputs": [],
   "source": [
    "# [2:40 PM] Mohamed Farouk\n",
    "from kafka import KafkaProducer\n",
    "import requests\n",
    "import json\n",
    "producer = KafkaProducer(bootstrap_servers='localhost:9092')\n",
    "response_API = requests.get('https://api.covid19india.org/state_district_wise.json')\n",
    "parse_json = response_API.json()\n",
    "\n",
    "\n",
    "data_dict = parse_json.items()\n",
    "for item in data_dict:\n",
    "    json_object = json.dumps(item).encode('utf-8')\n",
    "    producer.send('test',json_object)\n",
    "    producer.flush()\n",
    "\n"
   ]
  },
  {
   "cell_type": "code",
   "execution_count": null,
   "id": "4d0bc5ef",
   "metadata": {},
   "outputs": [],
   "source": []
  }
 ],
 "metadata": {
  "kernelspec": {
   "display_name": "Python 3 (ipykernel)",
   "language": "python",
   "name": "python3"
  },
  "language_info": {
   "codemirror_mode": {
    "name": "ipython",
    "version": 3
   },
   "file_extension": ".py",
   "mimetype": "text/x-python",
   "name": "python",
   "nbconvert_exporter": "python",
   "pygments_lexer": "ipython3",
   "version": "3.9.12"
  }
 },
 "nbformat": 4,
 "nbformat_minor": 5
}
